{
 "cells": [
  {
   "cell_type": "markdown",
   "metadata": {},
   "source": [
    "##### Author: Divyabrata Das Gupta\n",
    "##### Gmail ID: shubhodivgupta@gmail.com\n",
    "##### Date Last Modified: 3rd December, 2020"
   ]
  },
  {
   "cell_type": "markdown",
   "metadata": {},
   "source": [
    "### 1. Write a program which accepts a sequence of comma-separated numbers from console  and generate a list. \n"
   ]
  },
  {
   "cell_type": "code",
   "execution_count": 19,
   "metadata": {},
   "outputs": [
    {
     "name": "stdout",
     "output_type": "stream",
     "text": [
      "Enter sequence of comma-separated number\n",
      "1,2,3,4,5,6,7,8,9,10\n",
      "['1', '2', '3', '4', '5', '6', '7', '8', '9', '10']\n",
      "[1, 2, 3, 4, 5, 6, 7, 8, 9, 10]\n"
     ]
    }
   ],
   "source": [
    "s=input(\"Enter sequence of comma-separated number\\n\")\n",
    "s_lst=s.split(',')\n",
    "print(s_lst)\n",
    "for i in range(len(s_lst)):\n",
    "    s_lst[i]=int(s_lst[i])\n",
    "print(s_lst)"
   ]
  },
  {
   "cell_type": "markdown",
   "metadata": {},
   "source": [
    "### 2. Create the below pattern using nested for loop in Python. \n",
    "##  * \n",
    "## * * \n",
    "## * * * \n",
    "## * * * * \n",
    "## * * * * * \n",
    "## * * * * \n",
    "## * * * \n",
    "## * * \n",
    "## * \n"
   ]
  },
  {
   "cell_type": "code",
   "execution_count": 11,
   "metadata": {},
   "outputs": [
    {
     "name": "stdout",
     "output_type": "stream",
     "text": [
      "Enter pattern limit:\n",
      "5\n",
      "\n",
      "*\n",
      "**\n",
      "***\n",
      "****\n",
      "*****\n",
      "****\n",
      "***\n",
      "**\n",
      "*\n"
     ]
    }
   ],
   "source": [
    "n=int(input(\"Enter pattern limit:\\n\"))\n",
    "for i in range(2*n):\n",
    "    if(i<n):\n",
    "        for j in range(i):\n",
    "            print('*',end='')\n",
    "    else:\n",
    "        for j in range(n-(i-n)):\n",
    "            print('*',end='')\n",
    "    print(end='\\n')"
   ]
  },
  {
   "cell_type": "markdown",
   "metadata": {},
   "source": [
    "### 2. Write a Python program to reverse a word after accepting the input from the user. \n",
    "### Sample Output: \n",
    "### Input word: ineuron \n",
    "### Output: norueni\n"
   ]
  },
  {
   "cell_type": "code",
   "execution_count": 12,
   "metadata": {},
   "outputs": [
    {
     "name": "stdout",
     "output_type": "stream",
     "text": [
      "Enter a string:\n",
      "Hello World!!\n",
      "!!dlroW olleH\n"
     ]
    }
   ],
   "source": [
    "s=input(\"Enter a string:\\n\")\n",
    "rev_s=s[::-1]\n",
    "print(rev_s)"
   ]
  },
  {
   "cell_type": "code",
   "execution_count": null,
   "metadata": {},
   "outputs": [],
   "source": []
  }
 ],
 "metadata": {
  "kernelspec": {
   "display_name": "Python 3",
   "language": "python",
   "name": "python3"
  },
  "language_info": {
   "codemirror_mode": {
    "name": "ipython",
    "version": 3
   },
   "file_extension": ".py",
   "mimetype": "text/x-python",
   "name": "python",
   "nbconvert_exporter": "python",
   "pygments_lexer": "ipython3",
   "version": "3.7.6"
  }
 },
 "nbformat": 4,
 "nbformat_minor": 4
}
