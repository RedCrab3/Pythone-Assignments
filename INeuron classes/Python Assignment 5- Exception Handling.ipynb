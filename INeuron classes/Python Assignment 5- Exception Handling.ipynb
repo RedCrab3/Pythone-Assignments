{
 "cells": [
  {
   "cell_type": "markdown",
   "metadata": {},
   "source": [
    "##### Author: Divyabrata Das Gupta\n",
    "##### Gmail ID: shubhodivgupta@gmail.com\n",
    "##### Date Last Modified: 20th December, 2020"
   ]
  },
  {
   "cell_type": "markdown",
   "metadata": {},
   "source": [
    "### 1. Write a function to compute 5/0 and use try/except to catch the exceptions. "
   ]
  },
  {
   "cell_type": "code",
   "execution_count": 2,
   "metadata": {},
   "outputs": [
    {
     "name": "stdout",
     "output_type": "stream",
     "text": [
      "Enter numerator: 5\n",
      "Enter denominator: 0\n",
      "The exception division by zero has occured and the answer is inf\n"
     ]
    }
   ],
   "source": [
    "import math\n",
    "def division(n,d):\n",
    "    try:\n",
    "        print(n/d)\n",
    "    except ZeroDivisionError as zde:\n",
    "        print(\"The exception {} has occured and the answer is {}\".format(zde,math.inf))\n",
    "a=int(input('Enter numerator: '))\n",
    "b=int(input('Enter denominator: '))\n",
    "division(a,b)"
   ]
  },
  {
   "cell_type": "code",
   "execution_count": 3,
   "metadata": {},
   "outputs": [
    {
     "name": "stdout",
     "output_type": "stream",
     "text": [
      "2.5\n"
     ]
    }
   ],
   "source": [
    "division(5,2)"
   ]
  },
  {
   "cell_type": "markdown",
   "metadata": {},
   "source": [
    "### 2. Implement a Python program to generate all sentences where subject is in  [\"Americans\", \"Indians\"] and verb is in [\"Play\", \"watch\"] and the object is in  [\"Baseball\",\"cricket\"]. \n",
    "#### Hint: Subject,Verb and Object should be declared in the program as shown below. \n",
    "#### subjects=[\"Americans \",\"Indians\"] \n",
    "#### verbs=[\"play\",\"watch\"] \n",
    "#### objects=[\"Baseball\",\"Cricket\"] \n",
    "#### Output should come as below: \n",
    "##### Americans play Baseball. \n",
    "##### Americans play Cricket. \n",
    "##### Americans watch Baseball. \n",
    "##### Americans watch Cricket. \n",
    "##### Indians play Baseball. \n",
    "##### Indians play Cricket. \n",
    "##### Indians watch Baseball. \n",
    "##### Indians watch Cricket. \n"
   ]
  },
  {
   "cell_type": "code",
   "execution_count": 17,
   "metadata": {},
   "outputs": [],
   "source": [
    "lst=[i+' '+j+' '+k for i in [\"Americans\", \"Indians\"] for j in [\"Play\", \"watch\"] for k in [\"Baseball\",\"cricket\"]]"
   ]
  },
  {
   "cell_type": "code",
   "execution_count": 22,
   "metadata": {},
   "outputs": [
    {
     "name": "stdout",
     "output_type": "stream",
     "text": [
      "Americans Play Baseball\n",
      "Americans Play cricket\n",
      "Americans watch Baseball\n",
      "Americans watch cricket\n",
      "Indians Play Baseball\n",
      "Indians Play cricket\n",
      "Indians watch Baseball\n",
      "Indians watch cricket\n"
     ]
    }
   ],
   "source": [
    "for i in lst:\n",
    "    print(i)"
   ]
  },
  {
   "cell_type": "code",
   "execution_count": 24,
   "metadata": {},
   "outputs": [],
   "source": [
    "def fun():\n",
    "    for i in [\"Americans\", \"Indians\"]: \n",
    "        for j in [\"Play\", \"watch\"]:\n",
    "            for k in [\"Baseball\",\"cricket\"]:\n",
    "                yield(i+' '+j+' '+k)"
   ]
  },
  {
   "cell_type": "code",
   "execution_count": 25,
   "metadata": {},
   "outputs": [
    {
     "name": "stdout",
     "output_type": "stream",
     "text": [
      "Americans Play Baseball\n",
      "Americans Play cricket\n",
      "Americans watch Baseball\n",
      "Americans watch cricket\n",
      "Indians Play Baseball\n",
      "Indians Play cricket\n",
      "Indians watch Baseball\n",
      "Indians watch cricket\n"
     ]
    }
   ],
   "source": [
    "for i in fun():\n",
    "    print(i)"
   ]
  },
  {
   "cell_type": "code",
   "execution_count": null,
   "metadata": {},
   "outputs": [],
   "source": []
  }
 ],
 "metadata": {
  "kernelspec": {
   "display_name": "Python 3",
   "language": "python",
   "name": "python3"
  },
  "language_info": {
   "codemirror_mode": {
    "name": "ipython",
    "version": 3
   },
   "file_extension": ".py",
   "mimetype": "text/x-python",
   "name": "python",
   "nbconvert_exporter": "python",
   "pygments_lexer": "ipython3",
   "version": "3.7.6"
  }
 },
 "nbformat": 4,
 "nbformat_minor": 4
}
