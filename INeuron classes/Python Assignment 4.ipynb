{
 "cells": [
  {
   "cell_type": "markdown",
   "metadata": {},
   "source": [
    "##### Author: Divyabrata Das Gupta\n",
    "##### Gmail ID: shubhodivgupta@gmail.com\n",
    "##### Date Last Modified: 14th December, 2020"
   ]
  },
  {
   "cell_type": "markdown",
   "metadata": {},
   "source": [
    "### 1.1 Write a Python Program(with class concepts) to find the area of the triangle using the below  formula. \n",
    "area = (s*(s-a)*(s-b)*(s-c)) ** 0.5 \n",
    "Function to take the length of the sides of triangle from user should be defined in the parent  class and function to calculate the area should be defined in subclass. "
   ]
  },
  {
   "cell_type": "code",
   "execution_count": 7,
   "metadata": {},
   "outputs": [],
   "source": [
    "import math\n",
    "class Triangle:\n",
    "    def __init__(self, side1:int, side2:int ,side3:int):\n",
    "        if side1+side2>side3 and side2+side3>side1 and side3+side1>side2:\n",
    "            self.a=side1\n",
    "            self.b=side2\n",
    "            self.c=side3\n",
    "            return 1\n",
    "        else:\n",
    "            print('Object failed to create. Side lengths given are not feasible in a Triangle')\n",
    "            return -1\n",
    "class tri_Area(Triangle):\n",
    "    def __init__(self,*args):\n",
    "        self.flag=super(tri_Area,self).__init__(*args)\n",
    "    def getArea(self):\n",
    "        if(self.flag==1):\n",
    "            S=(self.a+self.b+self.c)*0.5\n",
    "            return 'The Area of the given Triangle is {} unit square'.format(math.sqrt(S*(S-self.a)*(S-self.b)*(S-self.c)))\n",
    "        else:\n",
    "            return 'There is no feasible Triangle to find Area of :('"
   ]
  },
  {
   "cell_type": "code",
   "execution_count": 8,
   "metadata": {},
   "outputs": [
    {
     "data": {
      "text/plain": [
       "'The Area of the given Triangle is 6.0 unit square'"
      ]
     },
     "execution_count": 8,
     "metadata": {},
     "output_type": "execute_result"
    }
   ],
   "source": [
    "delta=tri_Area(3,4,5)\n",
    "delta.getArea()"
   ]
  },
  {
   "cell_type": "code",
   "execution_count": 10,
   "metadata": {},
   "outputs": [
    {
     "name": "stdout",
     "output_type": "stream",
     "text": [
      "Object failed to create. Side lengths given are not feasible in a Triangle\n"
     ]
    },
    {
     "data": {
      "text/plain": [
       "'There is no feasible Triangle to find Area of :('"
      ]
     },
     "execution_count": 10,
     "metadata": {},
     "output_type": "execute_result"
    }
   ],
   "source": [
    "delta=tri_Area(3,4,7)\n",
    "delta.getArea()"
   ]
  },
  {
   "cell_type": "markdown",
   "metadata": {},
   "source": [
    "### 1.2 Write a function filter_long_words() that takes a list of words and an integer n and returns  the list of words that are longer than n. "
   ]
  },
  {
   "cell_type": "code",
   "execution_count": 11,
   "metadata": {},
   "outputs": [],
   "source": [
    "def filter_long_words1(wrd_lst, n):\n",
    "    wrd_list_longn=[]\n",
    "    wl=iter(wrd_lst)\n",
    "    for i in wl:\n",
    "        if len(i)>n:\n",
    "            wrd_list_longn.append(i)\n",
    "    return wrd_list_longn\n",
    "filter_long_words2=lambda wrd_lst, n: [i for i in wrd_lst if len(i)>n]"
   ]
  },
  {
   "cell_type": "code",
   "execution_count": 12,
   "metadata": {},
   "outputs": [
    {
     "data": {
      "text/plain": [
       "['Divyabrata', 'DasGupta']"
      ]
     },
     "execution_count": 12,
     "metadata": {},
     "output_type": "execute_result"
    }
   ],
   "source": [
    "filter_long_words1(['Hello','World','Divyabrata','DasGupta'],5)"
   ]
  },
  {
   "cell_type": "code",
   "execution_count": 13,
   "metadata": {},
   "outputs": [
    {
     "data": {
      "text/plain": [
       "['Divyabrata', 'DasGupta']"
      ]
     },
     "execution_count": 13,
     "metadata": {},
     "output_type": "execute_result"
    }
   ],
   "source": [
    "filter_long_words2(['Hello','World','Divyabrata','DasGupta'],5)"
   ]
  },
  {
   "cell_type": "markdown",
   "metadata": {},
   "source": [
    "### 2.1 Write a Python program using function concept that maps list of words into a list of integers  representing the lengths of the corresponding words. \n",
    "Hint: If a list [ ab,cde,erty] is passed on to the python function output should come as [2,3,4] Here 2,3 and 4 are the lengths of the words in the list. "
   ]
  },
  {
   "cell_type": "code",
   "execution_count": 14,
   "metadata": {},
   "outputs": [],
   "source": [
    "def map_WrdtoInt_lst1(wrd_lst):\n",
    "    int_lst=[]\n",
    "    wl=iter(wrd_lst)\n",
    "    for i in wl:\n",
    "        int_lst.append(len(i))\n",
    "    return int_lst\n",
    "map_WrdtoInt_lst2=lambda wrd_lst: [len(i) for i in wrd_lst]"
   ]
  },
  {
   "cell_type": "code",
   "execution_count": 16,
   "metadata": {},
   "outputs": [
    {
     "data": {
      "text/plain": [
       "[2, 3, 4]"
      ]
     },
     "execution_count": 16,
     "metadata": {},
     "output_type": "execute_result"
    }
   ],
   "source": [
    "map_WrdtoInt_lst1(['ab','cde','erty'])"
   ]
  },
  {
   "cell_type": "code",
   "execution_count": 17,
   "metadata": {},
   "outputs": [
    {
     "data": {
      "text/plain": [
       "[2, 3, 4]"
      ]
     },
     "execution_count": 17,
     "metadata": {},
     "output_type": "execute_result"
    }
   ],
   "source": [
    "map_WrdtoInt_lst2(['ab','cde','erty'])"
   ]
  },
  {
   "cell_type": "markdown",
   "metadata": {},
   "source": [
    "### 2.2 Write a Python function which takes a character (i.e. a string of length 1) and returns True if  it is a vowel, False otherwise. "
   ]
  },
  {
   "cell_type": "code",
   "execution_count": 24,
   "metadata": {},
   "outputs": [],
   "source": [
    "def vowelOrNot1(char):\n",
    "    return char.lower() in ['a','e','i','o','u']\n",
    "vowelOrNot2=lambda char: char.lower() in ['a','e','i','o','u']"
   ]
  },
  {
   "cell_type": "code",
   "execution_count": 25,
   "metadata": {},
   "outputs": [
    {
     "data": {
      "text/plain": [
       "True"
      ]
     },
     "execution_count": 25,
     "metadata": {},
     "output_type": "execute_result"
    }
   ],
   "source": [
    "vowelOrNot1('i') and vowelOrNot2('U')"
   ]
  },
  {
   "cell_type": "code",
   "execution_count": 30,
   "metadata": {},
   "outputs": [
    {
     "data": {
      "text/plain": [
       "True"
      ]
     },
     "execution_count": 30,
     "metadata": {},
     "output_type": "execute_result"
    }
   ],
   "source": [
    "not (vowelOrNot1('d') or vowelOrNot2('Z'))"
   ]
  },
  {
   "cell_type": "code",
   "execution_count": null,
   "metadata": {},
   "outputs": [],
   "source": []
  }
 ],
 "metadata": {
  "kernelspec": {
   "display_name": "Python 3",
   "language": "python",
   "name": "python3"
  },
  "language_info": {
   "codemirror_mode": {
    "name": "ipython",
    "version": 3
   },
   "file_extension": ".py",
   "mimetype": "text/x-python",
   "name": "python",
   "nbconvert_exporter": "python",
   "pygments_lexer": "ipython3",
   "version": "3.7.6"
  }
 },
 "nbformat": 4,
 "nbformat_minor": 4
}
