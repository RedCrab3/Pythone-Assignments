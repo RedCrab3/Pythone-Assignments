{
 "cells": [
  {
   "cell_type": "markdown",
   "metadata": {},
   "source": [
    "##### Author: Divyabrata Das Gupta\n",
    "##### Gmail ID: shubhodivgupta@gmail.com\n",
    "##### Date Last Modified: 28th February, 2021"
   ]
  },
  {
   "cell_type": "markdown",
   "metadata": {},
   "source": [
    "### Ques 1: Write a function so that the columns of the output matrix are powers of the input vector. The order of the powers is determined by the increasing boolean argument. Specifically, when  increasing is False, the i-th output column is the input vector raised element-wise to the power  of N - i - 1. \n",
    "\n",
    "###### HINT: Such a matrix with a geometric progression in each row is named for Alexandre Theophile Vandermonde. \n"
   ]
  },
  {
   "cell_type": "code",
   "execution_count": 4,
   "metadata": {},
   "outputs": [],
   "source": [
    "import numpy as np"
   ]
  },
  {
   "cell_type": "code",
   "execution_count": 30,
   "metadata": {},
   "outputs": [],
   "source": [
    "def my_Vander(in_vec=[],N=len(in_vec),increasing=False):\n",
    "    in_vec=np.array(in_vec)\n",
    "    k=[[]]\n",
    "    if (increasing):\n",
    "        k=np.column_stack([in_vec**(N-1-i) for i in range(N-1,-1,-1)])\n",
    "    else:\n",
    "        k=np.column_stack([in_vec**(N-1-i) for i in range(N)])\n",
    "    return k"
   ]
  },
  {
   "cell_type": "code",
   "execution_count": 5,
   "metadata": {},
   "outputs": [
    {
     "name": "stdout",
     "output_type": "stream",
     "text": [
      "Enter the input vector\n",
      "(Enter 'end' to mark end of list):\n",
      "Enter 1th list item: 1\n",
      "Enter 2th list item: 2\n",
      "Enter 3th list item: 3\n",
      "Enter 4th list item: 4\n",
      "Enter 5th list item: 5\n",
      "Enter 6th list item: end\n"
     ]
    }
   ],
   "source": [
    "print(\"Enter the input vector\\n(Enter 'end' to mark end of list):\")\n",
    "in_vec=[]\n",
    "i=1\n",
    "while(True):\n",
    "    try:\n",
    "\n",
    "        in_vec.append(int(input(\"Enter {}th list item: \".format(i))))\n",
    "        i+=1\n",
    "    except Exception as e:\n",
    "                      break\n"
   ]
  },
  {
   "cell_type": "code",
   "execution_count": 6,
   "metadata": {},
   "outputs": [
    {
     "name": "stdout",
     "output_type": "stream",
     "text": [
      "[[  1   1   1   1   1]\n",
      " [ 16   8   4   2   1]\n",
      " [ 81  27   9   3   1]\n",
      " [256  64  16   4   1]\n",
      " [625 125  25   5   1]]\n",
      "\n",
      "\n",
      "[[   1    1    1    1    1    1]\n",
      " [   1    2    4    8   16   32]\n",
      " [   1    3    9   27   81  243]\n",
      " [   1    4   16   64  256 1024]\n",
      " [   1    5   25  125  625 3125]]\n"
     ]
    }
   ],
   "source": [
    "print(np.vander(in_vec,increasing=False),end='\\n'*3)\n",
    "print(np.vander(in_vec,N=6,increasing=True))"
   ]
  },
  {
   "cell_type": "code",
   "execution_count": 31,
   "metadata": {},
   "outputs": [
    {
     "name": "stdout",
     "output_type": "stream",
     "text": [
      "[[  1   1   1   1   1]\n",
      " [ 16   8   4   2   1]\n",
      " [ 81  27   9   3   1]\n",
      " [256  64  16   4   1]\n",
      " [625 125  25   5   1]]\n",
      "\n",
      "\n",
      "[[   1    1    1    1    1    1]\n",
      " [   1    2    4    8   16   32]\n",
      " [   1    3    9   27   81  243]\n",
      " [   1    4   16   64  256 1024]\n",
      " [   1    5   25  125  625 3125]]\n"
     ]
    }
   ],
   "source": [
    "print(my_Vander(in_vec),end='\\n'*3)\n",
    "print(my_Vander(in_vec,6,increasing=True))"
   ]
  },
  {
   "cell_type": "markdown",
   "metadata": {},
   "source": [
    "### Ques 2: Given a sequence of n values x1, x2, ..., xn and a window size k>0, the k-th moving average of  the given sequence is defined as follows: \n",
    "##### The moving average sequence has n-k+1 elements as shown below:\n",
    "The moving averages with k=4 of a ten-value sequence (n=10) is shown below \n",
    "\n",
    "i 1 2 3 4 5 6 7 8 9 10\n",
    "\n",
    "== == == == == == == == == == == == == \n",
    "\n",
    "Input 10 20 30 40 50 60 70 80 90 100  \n",
    "y1 25 = (10+20+30+40)/4 \n",
    "\n",
    "y2 35 = (20+30+40+50)/4 \n",
    "\n",
    "y3 45 = (30+40+50+60)/4\n",
    "\n",
    "y4 55 = (40+50+60+70)/4\n",
    "\n",
    "y5 65 = (50+60+70+80)/4\n",
    "\n",
    "y6 75 = (60+70+80+90)/4\n",
    "\n",
    "y7 85 = (70+80+90+100)/4\n",
    "\n",
    "Thus, the moving average sequence has n-k+1=10-4+1=7 values.\n",
    "##### Write a function to find moving average in an array over a window:  Test it over [3, 5, 7, 2, 8, 10, 11, 65, 72, 81, 99, 100, 150] and window of 3. \n"
   ]
  },
  {
   "cell_type": "code",
   "execution_count": 5,
   "metadata": {},
   "outputs": [],
   "source": [
    "def mov_Avg(in_vec,K):\n",
    "    avg_lst=[]\n",
    "    for i in range(len(in_vec)-K+1):\n",
    "        lst=in_vec[i:i+K]\n",
    "        avg_lst.append(sum(lst)/K)\n",
    "    return np.array(avg_lst)"
   ]
  },
  {
   "cell_type": "code",
   "execution_count": 6,
   "metadata": {},
   "outputs": [
    {
     "name": "stdout",
     "output_type": "stream",
     "text": [
      "Enter the input vector via comma separated numbers:\n",
      "(For Example: 1,2,3,4,5)\n",
      "3, 5, 7, 2, 8, 10, 11, 65, 72, 81, 99, 100, 150\n",
      "Enter Window size: 3\n"
     ]
    },
    {
     "data": {
      "text/plain": [
       "array([  5.        ,   4.66666667,   5.66666667,   6.66666667,\n",
       "         9.66666667,  28.66666667,  49.33333333,  72.66666667,\n",
       "        84.        ,  93.33333333, 116.33333333])"
      ]
     },
     "execution_count": 6,
     "metadata": {},
     "output_type": "execute_result"
    }
   ],
   "source": [
    "st=input(\"Enter the input vector via comma separated numbers:\\n(For Example: 1,2,3,4,5)\\n\")\n",
    "in_vec=st.split(',')\n",
    "in_vec=[int(i) for i in in_vec]\n",
    "K=int(input(\"Enter Window size: \"))\n",
    "mov_Avg(in_vec,K)"
   ]
  },
  {
   "cell_type": "code",
   "execution_count": null,
   "metadata": {},
   "outputs": [],
   "source": []
  }
 ],
 "metadata": {
  "kernelspec": {
   "display_name": "Python 3",
   "language": "python",
   "name": "python3"
  }
 },
 "nbformat": 4,
 "nbformat_minor": 4
}
